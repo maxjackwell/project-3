{
 "cells": [
  {
   "cell_type": "markdown",
   "metadata": {},
   "source": [
    "**Scrape basketball-reference.com for Player Data**"
   ]
  },
  {
   "cell_type": "code",
   "execution_count": null,
   "metadata": {},
   "outputs": [],
   "source": [
    "# import needed libraries\n",
    "from urllib.request import urlopen\n",
    "from bs4 import BeautifulSoup\n",
    "import pandas as pd"
   ]
  },
  {
   "cell_type": "code",
   "execution_count": null,
   "metadata": {},
   "outputs": [],
   "source": [
    "# Create an empty list for player data from all players from all states\n",
    "all_states_data = []\n",
    "# These columns will be used label the dataframe columns\n",
    "columns = ['Player_url', 'Player_name', 'Years', 'GP', 'MP', 'FG', 'FGA', '3P', '3PA', 'FT', 'FTA', \n",
    "           'ORB', 'TRB', 'AST', 'STL', 'BLK', 'TO', 'PF', 'PTS', 'Birthday', 'City', 'State']\n",
    "# These are the data stat on the website that have the same format\n",
    "data_stats = ['years', 'g', 'mp', 'fg', 'fga', 'fg3', 'fg3a', 'ft', 'fta', \n",
    "              'orb', 'trb', 'ast', 'stl', 'blk', 'tov', 'pf', 'pts', 'birth_date', 'birth_city']"
   ]
  },
  {
   "cell_type": "code",
   "execution_count": null,
   "metadata": {},
   "outputs": [],
   "source": [
    "# In order to successfully compile the database, we must in one list of states at a time\n",
    "# Alternate between commenting in/out each states list while reinitialize the variable \n",
    "# And running the for state in states loop\n",
    "# Otherwise we risk a 429 Error for too many request\n",
    "\n",
    "states = ['AL','AK','AZ','AR','CA','CO','CT','DC','DE','FL','GA']\n",
    "# states = ['HI','ID','IL','IN','IA','KS','KY','LA','ME','MD']\n",
    "# states = ['MA','MI','MN','MS','MO','MT','NE','NV','NH','NJ']\n",
    "# states =['NM','NY','NC','ND','OH','OK','OR','PA','RI','SC']\n",
    "# states = ['SD','TN','TX','UT','VT','VA','WA','WV','WI','WY']\n",
    "\n",
    "print(f'Ready to scrape the following states: {states}')"
   ]
  },
  {
   "cell_type": "code",
   "execution_count": null,
   "metadata": {},
   "outputs": [],
   "source": [
    "for state in states:\n",
    "        \n",
    "        url = f'https://www.basketball-reference.com/friv/birthplaces.fcgi?country=US&state={state}'\n",
    "        html = urlopen(url)\n",
    "        soup = BeautifulSoup(html, features='lxml')\n",
    "        \n",
    "        all_rows = soup.findAll('tbody')\n",
    "\n",
    "        for row in all_rows:\n",
    "                # Remove header breaks in website table\n",
    "                for tr in row.select('.thead'):\n",
    "                      tr.decompose()\n",
    "\n",
    "                data_rows = row.findAll('tr')\n",
    "                \n",
    "                for data_row in data_rows:\n",
    "                    # Create a list for each player's data\n",
    "                    player_data = []\n",
    "                    # The player name is in a hyperlink, so we must go into an a tag to get it\n",
    "                    name = data_row.find('a').text\n",
    "                    # Find the href extension for the player\n",
    "                    player_url = data_row.find('a').get('href')\n",
    "                    # Concatenate the base url for the website and the player extension\n",
    "                    total_url = f'https://www.basketball-reference.com{player_url}'\n",
    "                    # Each .append() adds player data to the list\n",
    "                    player_data.append(total_url) \n",
    "                    player_data.append(name)\n",
    "                    # This for loop allows us to gather many data-stat values\n",
    "                    for stat in data_stats:\n",
    "                        # This grabs the current data-stat from the list\n",
    "                        data = data_row.find('td', attrs={'data-stat': stat}).text\n",
    "                        player_data.append(data) \n",
    "                    player_data.append(state)\n",
    "                    # This appends the players data to the all_states_data list\n",
    "                    all_states_data.append(player_data)\n",
    "        print(f'Player data from {state} successfully scraped')\n",
    "\n",
    "print('Done compiling, go to next list if needed')       "
   ]
  },
  {
   "cell_type": "code",
   "execution_count": null,
   "metadata": {},
   "outputs": [],
   "source": [
    "print(all_states_data)"
   ]
  },
  {
   "cell_type": "code",
   "execution_count": null,
   "metadata": {},
   "outputs": [],
   "source": [
    "all_states_df = pd.DataFrame(all_states_data)"
   ]
  },
  {
   "cell_type": "code",
   "execution_count": null,
   "metadata": {},
   "outputs": [],
   "source": [
    "all_states_df.columns = columns\n",
    "all_states_df"
   ]
  },
  {
   "cell_type": "code",
   "execution_count": null,
   "metadata": {},
   "outputs": [],
   "source": [
    "out = all_states_df.to_json(orient='records')\n",
    "\n",
    "with open('all_states.json', 'w') as f:\n",
    "    f.write(out)"
   ]
  }
 ],
 "metadata": {
  "kernelspec": {
   "display_name": "dev",
   "language": "python",
   "name": "python3"
  },
  "language_info": {
   "codemirror_mode": {
    "name": "ipython",
    "version": 3
   },
   "file_extension": ".py",
   "mimetype": "text/x-python",
   "name": "python",
   "nbconvert_exporter": "python",
   "pygments_lexer": "ipython3",
   "version": "3.10.13"
  }
 },
 "nbformat": 4,
 "nbformat_minor": 2
}
