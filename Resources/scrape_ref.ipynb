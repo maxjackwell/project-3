{
 "cells": [
  {
   "cell_type": "code",
   "execution_count": null,
   "metadata": {},
   "outputs": [],
   "source": [
    "# import needed libraries\n",
    "from urllib.request import urlopen\n",
    "from bs4 import BeautifulSoup\n",
    "import pandas as pd\n",
    "all_states_data = []\n",
    "\n"
   ]
  },
  {
   "cell_type": "code",
   "execution_count": null,
   "metadata": {},
   "outputs": [],
   "source": [
    "# states = ['AL','AK','AZ','AR','CA','CO','CT','DE','FL','GA']\n",
    "# states = ['HI','ID','IL','IN','IA','KS','KY','LA','ME','MD']\n",
    "# states = ['MA','MI','MN','MS','MO','MT','NE','NV','NH','NJ']\n",
    "# states =['NM','NY','NC','ND','OH','OK','OR','PA','RI','SC']\n",
    "states = ['SD','TN','TX','UT','VT','VA','WA','WV','WI','WY']\n",
    "columns = ['Player', 'Years', 'GP', 'MP', 'FG', 'FGA', '3P', '3PA', 'FT', 'FTA', \n",
    "           'ORB', 'TRB', 'AST', 'STL', 'BLK', 'TO', 'PF', 'PTS', 'Birthday', 'City', 'State']\n",
    "data_stats = ['years', 'g', 'mp', 'fg', 'fga', 'fg3', 'fg3a', 'ft', 'fta', \n",
    "              'orb', 'trb', 'ast', 'stl', 'blk', 'tov', 'pf', 'pts', 'birth_date', 'birth_city']\n"
   ]
  },
  {
   "cell_type": "code",
   "execution_count": null,
   "metadata": {},
   "outputs": [],
   "source": [
    "\n",
    "for state in states:\n",
    "        \n",
    "        url = f'https://www.basketball-reference.com/friv/birthplaces.fcgi?country=US&state={state}'\n",
    "        html = urlopen(url)\n",
    "        soup = BeautifulSoup(html, features='lxml')\n",
    "        \n",
    "        all_rows = soup.findAll('tbody')\n",
    "\n",
    "        for row in all_rows:\n",
    "                #row_data = []\n",
    "                for tr in row.select('.thead'):\n",
    "                      tr.decompose()\n",
    "\n",
    "                data_rows = row.findAll('tr')\n",
    "                \n",
    "                for data_row in data_rows:\n",
    "                    player_data = []\n",
    "                    # print(data_row)\n",
    "                    name = data_row.find('a').text\n",
    "                    # print(name)\n",
    "                    player_data.append(name)\n",
    "                    for stat in data_stats:\n",
    "                        data = data_row.find('td', attrs={'data-stat': stat}).text\n",
    "                        # print(data)\n",
    "                        player_data.append(data)\n",
    "                    player_data.append(state)\n",
    "                    all_states_data.append(player_data)\n",
    "\n",
    "        \n",
    "        "
   ]
  },
  {
   "cell_type": "code",
   "execution_count": null,
   "metadata": {},
   "outputs": [],
   "source": [
    "print(all_states_data)"
   ]
  },
  {
   "cell_type": "code",
   "execution_count": null,
   "metadata": {},
   "outputs": [],
   "source": [
    "all_states_df = pd.DataFrame(all_states_data)"
   ]
  },
  {
   "cell_type": "code",
   "execution_count": null,
   "metadata": {},
   "outputs": [],
   "source": [
    "all_states_df.columns = columns"
   ]
  },
  {
   "cell_type": "code",
   "execution_count": null,
   "metadata": {},
   "outputs": [],
   "source": [
    "all_states_df"
   ]
  },
  {
   "cell_type": "code",
   "execution_count": null,
   "metadata": {},
   "outputs": [],
   "source": [
    "out = all_states_df.to_json(orient='records')\n",
    "\n",
    "with open('all_states.json', 'w') as f:\n",
    "    f.write(out)"
   ]
  }
 ],
 "metadata": {
  "kernelspec": {
   "display_name": "dev",
   "language": "python",
   "name": "python3"
  },
  "language_info": {
   "codemirror_mode": {
    "name": "ipython",
    "version": 3
   },
   "file_extension": ".py",
   "mimetype": "text/x-python",
   "name": "python",
   "nbconvert_exporter": "python",
   "pygments_lexer": "ipython3",
   "version": "3.10.13"
  }
 },
 "nbformat": 4,
 "nbformat_minor": 2
}
