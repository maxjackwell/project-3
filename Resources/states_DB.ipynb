{
 "cells": [
  {
   "cell_type": "markdown",
   "metadata": {},
   "source": [
    "Import the data provided in the `all_states.json` file from your Terminal. Name the database `birth_data` and the collection `states`.\n",
    "\n",
    "Within this markdown cell, copy the line of text you used to import the data from your Terminal. This way, future analysts will be able to repeat your process.\n",
    "\n",
    "e.g.: Import the dataset with `mongoimport --type json -d birth_data -c states --drop --jsonArray all_states.json`"
   ]
  },
  {
   "cell_type": "code",
   "execution_count": 16,
   "metadata": {},
   "outputs": [],
   "source": [
    "# Import dependencies\n",
    "from pymongo import MongoClient\n",
    "from pprint import pprint\n",
    "from api_key import api_key"
   ]
  },
  {
   "cell_type": "code",
   "execution_count": 6,
   "metadata": {},
   "outputs": [],
   "source": [
    "# Create an instance of MongoClient\n",
    "mongo = MongoClient(port=27017)"
   ]
  },
  {
   "cell_type": "code",
   "execution_count": 7,
   "metadata": {},
   "outputs": [
    {
     "name": "stdout",
     "output_type": "stream",
     "text": [
      "['admin', 'birth_data', 'config', 'epa', 'local', 'met', 'uk_food']\n"
     ]
    }
   ],
   "source": [
    "# confirm that our new database was created\n",
    "print(mongo.list_database_names())"
   ]
  },
  {
   "cell_type": "code",
   "execution_count": 9,
   "metadata": {},
   "outputs": [],
   "source": [
    "# assign the uk_food database to a variable name\n",
    "db = mongo[\"birth_data\"]"
   ]
  },
  {
   "cell_type": "code",
   "execution_count": 10,
   "metadata": {},
   "outputs": [
    {
     "name": "stdout",
     "output_type": "stream",
     "text": [
      "['states']\n"
     ]
    }
   ],
   "source": [
    "# review the collections in our new database\n",
    "print(db.list_collection_names())"
   ]
  },
  {
   "cell_type": "code",
   "execution_count": 12,
   "metadata": {},
   "outputs": [
    {
     "name": "stdout",
     "output_type": "stream",
     "text": [
      "{'3P': '0',\n",
      " '3PA': '0',\n",
      " 'AST': '67',\n",
      " 'BLK': '24',\n",
      " 'Birthday': 'Feb 8, 1967',\n",
      " 'City': 'Birmingham',\n",
      " 'FG': '383',\n",
      " 'FGA': '746',\n",
      " 'FT': '260',\n",
      " 'FTA': '360',\n",
      " 'GP': '149',\n",
      " 'MP': '2143',\n",
      " 'ORB': '311',\n",
      " 'PF': '284',\n",
      " 'PTS': '1026',\n",
      " 'Player': 'Michael Ansley',\n",
      " 'STL': '51',\n",
      " 'State': 'AL',\n",
      " 'TO': '85',\n",
      " 'TRB': '621',\n",
      " 'Years': '3',\n",
      " '_id': ObjectId('661883863383a053ef184a23')}\n"
     ]
    }
   ],
   "source": [
    "# review a document in the establishments collection\n",
    "pprint(db.states.find_one())"
   ]
  },
  {
   "cell_type": "code",
   "execution_count": 13,
   "metadata": {},
   "outputs": [],
   "source": [
    "# assign the collection to a variable\n",
    "states = db['states']"
   ]
  },
  {
   "cell_type": "markdown",
   "metadata": {},
   "source": [
    "Add in Coordinates for each players' birth location\n",
    "\n",
    "Using Geoapify"
   ]
  },
  {
   "cell_type": "code",
   "execution_count": 45,
   "metadata": {},
   "outputs": [],
   "source": [
    "state = states['State']\n",
    "city = states['City']"
   ]
  },
  {
   "cell_type": "code",
   "execution_count": null,
   "metadata": {},
   "outputs": [],
   "source": [
    "# Build the endpoint URL\n",
    "target_url = f\"https://api.geoapify.com/v1/geocode/search?city={city}?state={state}&format=json&apiKey={api_key}\""
   ]
  },
  {
   "cell_type": "code",
   "execution_count": 43,
   "metadata": {},
   "outputs": [
    {
     "data": {
      "text/plain": [
       "UpdateResult({'n': 4330, 'nModified': 4330, 'ok': 1.0, 'updatedExisting': True}, acknowledged=True)"
      ]
     },
     "execution_count": 43,
     "metadata": {},
     "output_type": "execute_result"
    }
   ],
   "source": [
    "# Adding Lat & Lon to the DataBase\n",
    "db.states.update_many(\n",
    "    {},\n",
    "    {\n",
    "        '$set': {\n",
    "            'Lat': ({'$toDouble': '$Latitude'}),  \n",
    "            'Lon': {'$toDouble': '$Longitude'}  \n",
    "        }\n",
    "    },\n",
    "    upsert=True\n",
    ")"
   ]
  },
  {
   "cell_type": "code",
   "execution_count": 44,
   "metadata": {},
   "outputs": [
    {
     "name": "stdout",
     "output_type": "stream",
     "text": [
      "{'3P': '0',\n",
      " '3PA': '0',\n",
      " 'AST': '67',\n",
      " 'BLK': '24',\n",
      " 'Birthday': 'Feb 8, 1967',\n",
      " 'City': 'Birmingham',\n",
      " 'FG': '383',\n",
      " 'FGA': '746',\n",
      " 'FT': '260',\n",
      " 'FTA': '360',\n",
      " 'GP': '149',\n",
      " 'Lat': {'$toDouble': '$Latitude'},\n",
      " 'Lon': {'$toDouble': '$Longitude'},\n",
      " 'MP': '2143',\n",
      " 'ORB': '311',\n",
      " 'PF': '284',\n",
      " 'PTS': '1026',\n",
      " 'Player': 'Michael Ansley',\n",
      " 'STL': '51',\n",
      " 'State': 'AL',\n",
      " 'TO': '85',\n",
      " 'TRB': '621',\n",
      " 'Years': '3',\n",
      " '_id': ObjectId('661883863383a053ef184a23')}\n"
     ]
    }
   ],
   "source": [
    "# review a document in the establishments collection\n",
    "pprint(db.states.find_one())"
   ]
  }
 ],
 "metadata": {
  "kernelspec": {
   "display_name": "base",
   "language": "python",
   "name": "python3"
  },
  "language_info": {
   "codemirror_mode": {
    "name": "ipython",
    "version": 3
   },
   "file_extension": ".py",
   "mimetype": "text/x-python",
   "name": "python",
   "nbconvert_exporter": "python",
   "pygments_lexer": "ipython3",
   "version": "3.11.5"
  }
 },
 "nbformat": 4,
 "nbformat_minor": 2
}
