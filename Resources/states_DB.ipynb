{
 "cells": [
  {
   "cell_type": "markdown",
   "metadata": {},
   "source": [
    "Import the data provided in the `all_states.json` file from your Terminal. Name the database `birth_data` and the collection `states`.\n",
    "\n",
    "Within this markdown cell, copy the line of text you used to import the data from your Terminal. This way, future analysts will be able to repeat your process.\n",
    "\n",
    "e.g.: Import the dataset with `mongoimport --type json -d birth_data -c states --drop --jsonArray all_states.json`"
   ]
  },
  {
   "cell_type": "code",
   "execution_count": 16,
   "metadata": {},
   "outputs": [],
   "source": [
    "# Import dependencies\n",
    "from pymongo import MongoClient\n",
    "from pprint import pprint\n",
    "from api_key import api_key"
   ]
  },
  {
   "cell_type": "code",
   "execution_count": 6,
   "metadata": {},
   "outputs": [],
   "source": [
    "# Create an instance of MongoClient\n",
    "mongo = MongoClient(port=27017)"
   ]
  },
  {
   "cell_type": "code",
   "execution_count": 7,
   "metadata": {},
   "outputs": [
    {
     "name": "stdout",
     "output_type": "stream",
     "text": [
      "['admin', 'birth_data', 'config', 'epa', 'local', 'met', 'uk_food']\n"
     ]
    }
   ],
   "source": [
    "# confirm that our new database was created\n",
    "print(mongo.list_database_names())"
   ]
  },
  {
   "cell_type": "code",
   "execution_count": 9,
   "metadata": {},
   "outputs": [],
   "source": [
    "# assign the uk_food database to a variable name\n",
    "db = mongo[\"birth_data\"]"
   ]
  },
  {
   "cell_type": "code",
   "execution_count": 10,
   "metadata": {},
   "outputs": [
    {
     "name": "stdout",
     "output_type": "stream",
     "text": [
      "['states']\n"
     ]
    }
   ],
   "source": [
    "# review the collections in our new database\n",
    "print(db.list_collection_names())"
   ]
  },
  {
   "cell_type": "code",
   "execution_count": 12,
   "metadata": {},
   "outputs": [
    {
     "name": "stdout",
     "output_type": "stream",
     "text": [
      "{'3P': '0',\n",
      " '3PA': '0',\n",
      " 'AST': '67',\n",
      " 'BLK': '24',\n",
      " 'Birthday': 'Feb 8, 1967',\n",
      " 'City': 'Birmingham',\n",
      " 'FG': '383',\n",
      " 'FGA': '746',\n",
      " 'FT': '260',\n",
      " 'FTA': '360',\n",
      " 'GP': '149',\n",
      " 'MP': '2143',\n",
      " 'ORB': '311',\n",
      " 'PF': '284',\n",
      " 'PTS': '1026',\n",
      " 'Player': 'Michael Ansley',\n",
      " 'STL': '51',\n",
      " 'State': 'AL',\n",
      " 'TO': '85',\n",
      " 'TRB': '621',\n",
      " 'Years': '3',\n",
      " '_id': ObjectId('661883863383a053ef184a23')}\n"
     ]
    }
   ],
   "source": [
    "# review a document in the establishments collection\n",
    "pprint(db.states.find_one())"
   ]
  },
  {
   "cell_type": "code",
   "execution_count": 13,
   "metadata": {},
   "outputs": [],
   "source": [
    "# assign the collection to a variable\n",
    "states = db['states']"
   ]
  },
  {
   "cell_type": "markdown",
   "metadata": {},
   "source": [
    "Add in Coordinates for each players' birth location\n",
    "\n",
    "Using Geoapify"
   ]
  },
  {
   "cell_type": "code",
   "execution_count": 57,
   "metadata": {},
   "outputs": [
    {
     "data": {
      "text/plain": [
       "UpdateResult({'n': 4330, 'nModified': 0, 'ok': 1.0, 'updatedExisting': True}, acknowledged=True)"
      ]
     },
     "execution_count": 57,
     "metadata": {},
     "output_type": "execute_result"
    }
   ],
   "source": [
    "# Adding Lat & Lon to the DataBase\n",
    "db.states.update_many(\n",
    "    {},\n",
    "    {\n",
    "        '$set': {\n",
    "            'Lat': {'$toDouble': '$Latitude'},  \n",
    "            'Lon': {'$toDouble': '$Longitude'}  \n",
    "        }\n",
    "    },\n",
    "    upsert=True\n",
    ")"
   ]
  },
  {
   "cell_type": "code",
   "execution_count": 44,
   "metadata": {},
   "outputs": [
    {
     "name": "stdout",
     "output_type": "stream",
     "text": [
      "{'3P': '0',\n",
      " '3PA': '0',\n",
      " 'AST': '67',\n",
      " 'BLK': '24',\n",
      " 'Birthday': 'Feb 8, 1967',\n",
      " 'City': 'Birmingham',\n",
      " 'FG': '383',\n",
      " 'FGA': '746',\n",
      " 'FT': '260',\n",
      " 'FTA': '360',\n",
      " 'GP': '149',\n",
      " 'Lat': {'$toDouble': '$Latitude'},\n",
      " 'Lon': {'$toDouble': '$Longitude'},\n",
      " 'MP': '2143',\n",
      " 'ORB': '311',\n",
      " 'PF': '284',\n",
      " 'PTS': '1026',\n",
      " 'Player': 'Michael Ansley',\n",
      " 'STL': '51',\n",
      " 'State': 'AL',\n",
      " 'TO': '85',\n",
      " 'TRB': '621',\n",
      " 'Years': '3',\n",
      " '_id': ObjectId('661883863383a053ef184a23')}\n"
     ]
    }
   ],
   "source": [
    "# review a document in the establishments collection\n",
    "pprint(db.states.find_one())"
   ]
  },
  {
   "cell_type": "code",
   "execution_count": null,
   "metadata": {},
   "outputs": [],
   "source": [
    "state = states['State']\n",
    "city = states['City']"
   ]
  },
  {
   "cell_type": "code",
   "execution_count": 54,
   "metadata": {},
   "outputs": [
    {
     "name": "stdout",
     "output_type": "stream",
     "text": [
      "'https://api.geoapify.com/v1/geocode/search?city=Birmingham&state=AL&format=json&apiKey=44670ce23f39445cab010de9d5d67917'\n"
     ]
    }
   ],
   "source": [
    "# Build the endpoint URL\n",
    "target_url = f\"https://api.geoapify.com/v1/geocode/search?city={city}&state={state}&format=json&apiKey={api_key}\"\n",
    "pprint(target_url)"
   ]
  },
  {
   "cell_type": "code",
   "execution_count": 55,
   "metadata": {},
   "outputs": [],
   "source": [
    "import requests\n",
    "\n",
    "filter = {} \n",
    "\n",
    "# Iterate through documents in the collection\n",
    "for document in states.find(filter):\n",
    "    # Extract \"City\" and \"State\" values from the document\n",
    "    city = document['City']\n",
    "    state = document['State']\n",
    "\n",
    "    # Make API request to get latitude and longitude\n",
    "    params = {\n",
    "        'city': city,\n",
    "        'state': state,\n",
    "        'format': 'json',\n",
    "        'apiKey': api_key\n",
    "    }\n",
    "    response = requests.get(target_url, params=params)\n",
    "    data = response.json()\n",
    "\n",
    "    # Extract latitude and longitude from the API response\n",
    "    if 'results' in data and data['results']:\n",
    "        lat = data['results'][0]['lat']\n",
    "        lon = data['results'][0]['lon']\n",
    "\n",
    "        # Update the document in the collection with latitude and longitude\n",
    "        states.update_one({'_id': document['_id']}, {'$set': {'Lat': lat, 'Lon': lon}})"
   ]
  },
  {
   "cell_type": "code",
   "execution_count": 56,
   "metadata": {},
   "outputs": [
    {
     "name": "stdout",
     "output_type": "stream",
     "text": [
      "{'3P': '0',\n",
      " '3PA': '0',\n",
      " 'AST': '67',\n",
      " 'BLK': '24',\n",
      " 'Birthday': 'Feb 8, 1967',\n",
      " 'City': 'Birmingham',\n",
      " 'FG': '383',\n",
      " 'FGA': '746',\n",
      " 'FT': '260',\n",
      " 'FTA': '360',\n",
      " 'GP': '149',\n",
      " 'Lat': {'$toDouble': '$Latitude'},\n",
      " 'Lon': {'$toDouble': '$Longitude'},\n",
      " 'MP': '2143',\n",
      " 'ORB': '311',\n",
      " 'PF': '284',\n",
      " 'PTS': '1026',\n",
      " 'Player': 'Michael Ansley',\n",
      " 'STL': '51',\n",
      " 'State': 'AL',\n",
      " 'TO': '85',\n",
      " 'TRB': '621',\n",
      " 'Years': '3',\n",
      " '_id': ObjectId('661883863383a053ef184a23')}\n"
     ]
    }
   ],
   "source": [
    "# review a document in the establishments collection\n",
    "pprint(db.states.find_one())"
   ]
  }
 ],
 "metadata": {
  "kernelspec": {
   "display_name": "base",
   "language": "python",
   "name": "python3"
  },
  "language_info": {
   "codemirror_mode": {
    "name": "ipython",
    "version": 3
   },
   "file_extension": ".py",
   "mimetype": "text/x-python",
   "name": "python",
   "nbconvert_exporter": "python",
   "pygments_lexer": "ipython3",
   "version": "3.11.5"
  }
 },
 "nbformat": 4,
 "nbformat_minor": 2
}
