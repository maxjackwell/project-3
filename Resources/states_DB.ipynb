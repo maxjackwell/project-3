{
 "cells": [
  {
   "cell_type": "markdown",
   "metadata": {},
   "source": [
    "Import the data provided in the `all_states.json` file from your Terminal. Name the database `birth_data` and the collection `states`.\n",
    "\n",
    "Within this markdown cell, copy the line of text you used to import the data from your Terminal. This way, future analysts will be able to repeat your process.\n",
    "\n",
    "e.g.: Import the dataset with `mongoimport --type json -d birth_data -c states --drop --jsonArray all_states.json`"
   ]
  },
  {
   "cell_type": "code",
   "execution_count": null,
   "metadata": {},
   "outputs": [],
   "source": [
    "# Import dependencies\n",
    "from pymongo import MongoClient\n",
    "from pprint import pprint\n",
    "from api_key import api_key"
   ]
  },
  {
   "cell_type": "code",
   "execution_count": null,
   "metadata": {},
   "outputs": [],
   "source": [
    "# Create an instance of MongoClient\n",
    "mongo = MongoClient(port=27017)"
   ]
  },
  {
   "cell_type": "code",
   "execution_count": null,
   "metadata": {},
   "outputs": [],
   "source": [
    "# confirm that our new database was created\n",
    "print(mongo.list_database_names())"
   ]
  },
  {
   "cell_type": "code",
   "execution_count": null,
   "metadata": {},
   "outputs": [],
   "source": [
    "# assign the uk_food database to a variable name\n",
    "db = mongo[\"birth_data\"]"
   ]
  },
  {
   "cell_type": "code",
   "execution_count": null,
   "metadata": {},
   "outputs": [],
   "source": [
    "# review the collections in our new database\n",
    "print(db.list_collection_names())"
   ]
  },
  {
   "cell_type": "code",
   "execution_count": null,
   "metadata": {},
   "outputs": [],
   "source": [
    "# review a document in the establishments collection\n",
    "pprint(db.states.find_one())"
   ]
  },
  {
   "cell_type": "code",
   "execution_count": null,
   "metadata": {},
   "outputs": [],
   "source": [
    "# assign the collection to a variable\n",
    "states = db['states']"
   ]
  },
  {
   "cell_type": "markdown",
   "metadata": {},
   "source": [
    "Add in Coordinates for each players' birth location\n",
    "\n",
    "Using Geoapify"
   ]
  },
  {
   "cell_type": "code",
   "execution_count": null,
   "metadata": {},
   "outputs": [],
   "source": [
    "# Adding Lat & Lon to the DataBase\n",
    "db.states.update_many(\n",
    "    {},\n",
    "    {\n",
    "        '$set': {\n",
    "            'Lat': '',  \n",
    "            'Lon': '' \n",
    "        }\n",
    "    },\n",
    "    upsert=True\n",
    ")"
   ]
  },
  {
   "cell_type": "code",
   "execution_count": null,
   "metadata": {},
   "outputs": [],
   "source": [
    "# review a document in the establishments collection\n",
    "pprint(db.states.find_one())"
   ]
  },
  {
   "cell_type": "code",
   "execution_count": null,
   "metadata": {},
   "outputs": [],
   "source": [
    "import requests\n",
    "\n",
    "filter = {} \n",
    "\n",
    "# Iterate through documents in the collection\n",
    "for document in states.find(filter):\n",
    "    # Extract \"City\" and \"State\" values from the document\n",
    "    city = document['City'].replace(\" \", \"_\")\n",
    "    state = document['State']\n",
    "    \n",
    "    # Url for API request\n",
    "    target_url = f\"https://api.geoapify.com/v1/geocode/search?city={city}&state={state}&format=json&apiKey={api_key}\"\n",
    "\n",
    "    # Make API request to get latitude and longitude\n",
    "    response = requests.get(target_url)\n",
    "    data = response.json()\n",
    "\n",
    "    # Extract latitude and longitude from the API response\n",
    "    if 'results' in data and data['results']:\n",
    "        lat = data['results'][0]['lat']\n",
    "        lon = data['results'][0]['lon']\n",
    "        print(f'Coordinates for {city},{state}: lat: {lat}, lon: {lon}')\n",
    "\n",
    "        # Update the document in the collection with latitude and longitude\n",
    "        states.update_one({'_id': document['_id']}, {'$set': {'Lat': lat, 'Lon': lon}})"
   ]
  },
  {
   "cell_type": "code",
   "execution_count": null,
   "metadata": {},
   "outputs": [],
   "source": [
    "# review a document in the establishments collection\n",
    "pprint(db.states.find_one())"
   ]
  }
 ],
 "metadata": {
  "kernelspec": {
   "display_name": "base",
   "language": "python",
   "name": "python3"
  },
  "language_info": {
   "codemirror_mode": {
    "name": "ipython",
    "version": 3
   },
   "file_extension": ".py",
   "mimetype": "text/x-python",
   "name": "python",
   "nbconvert_exporter": "python",
   "pygments_lexer": "ipython3",
   "version": "3.10.13"
  }
 },
 "nbformat": 4,
 "nbformat_minor": 2
}
