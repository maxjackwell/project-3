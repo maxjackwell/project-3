{
 "cells": [
  {
   "cell_type": "markdown",
   "metadata": {},
   "source": [
    "**Scrape basketball-reference.com for Player Data**"
   ]
  },
  {
   "cell_type": "code",
   "execution_count": 30,
   "metadata": {},
   "outputs": [],
   "source": [
    "# import needed libraries\n",
    "from urllib.request import urlopen\n",
    "from bs4 import BeautifulSoup\n",
    "import pandas as pd"
   ]
  },
  {
   "cell_type": "code",
   "execution_count": 32,
   "metadata": {},
   "outputs": [],
   "source": [
    "# Create an empty list for player data from all players from all states\n",
    "all_states_data = []\n",
    "# These columns will be used label the dataframe columns\n",
    "columns = ['url', 'name', 'years', 'gp', 'mp', 'fg', 'fga', '3p', '3pa', 'ft', 'fta', \n",
    "           'orb', 'trb', 'ast', 'stl', 'blk', 'to', 'pf', 'pts', 'birthday', 'city', 'state']\n",
    "# These are the data stat on the website that have the same format\n",
    "data_stats = ['years', 'g', 'mp', 'fg', 'fga', 'fg3', 'fg3a', 'ft', 'fta', \n",
    "              'orb', 'trb', 'ast', 'stl', 'blk', 'tov', 'pf', 'pts', 'birth_date', 'birth_city']"
   ]
  },
  {
   "cell_type": "code",
   "execution_count": 33,
   "metadata": {},
   "outputs": [
    {
     "name": "stdout",
     "output_type": "stream",
     "text": [
      "Ready to scrape the following states: ['AL']\n"
     ]
    }
   ],
   "source": [
    "# In order to successfully compile the database, we must in one list of states at a time\n",
    "# Alternate between commenting in/out each states list while reinitialize the variable \n",
    "# And running the for state in states loop\n",
    "# Otherwise we risk a 429 Error for too many requests\n",
    "\n",
    "states = ['AL']\n",
    "# states = ['HI','ID','IL','IN','IA','KS','KY','LA','ME','MD']\n",
    "# states = ['MA','MI','MN','MS','MO','MT','NE','NV','NH','NJ']\n",
    "# states =['NM','NY','NC','ND','OH','OK','OR','PA','RI','SC']\n",
    "# states = ['SD','TN','TX','UT','VT','VA','WA','WV','WI','WY']\n",
    "\n",
    "print(f'Ready to scrape the following states: {states}')"
   ]
  },
  {
   "cell_type": "code",
   "execution_count": 40,
   "metadata": {},
   "outputs": [
    {
     "name": "stdout",
     "output_type": "stream",
     "text": [
      "<tr><th class=\"right\" csk=\"1\" data-stat=\"ranker\" scope=\"row\">1</th><td class=\"left\" csk=\"Ansley,Michael\" data-append-csv=\"anslemi01\" data-stat=\"player\"><a href=\"/players/a/anslemi01.html\">Michael Ansley</a></td><td class=\"right\" data-stat=\"years\">3</td><td class=\"right\" data-stat=\"year_min\">1990</td><td class=\"right\" data-stat=\"year_max\">1992</td><td class=\"right\" data-stat=\"g\">149</td><td class=\"right\" data-stat=\"mp\">2143</td><td class=\"right\" data-stat=\"fg\">383</td><td class=\"right\" data-stat=\"fga\">746</td><td class=\"right iz\" data-stat=\"fg3\">0</td><td class=\"right iz\" data-stat=\"fg3a\">0</td><td class=\"right\" data-stat=\"ft\">260</td><td class=\"right\" data-stat=\"fta\">360</td><td class=\"right\" data-stat=\"orb\">311</td><td class=\"right\" data-stat=\"trb\">621</td><td class=\"right\" data-stat=\"ast\">67</td><td class=\"right\" data-stat=\"stl\">51</td><td class=\"right\" data-stat=\"blk\">24</td><td class=\"right\" data-stat=\"tov\">85</td><td class=\"right\" data-stat=\"pf\">284</td><td class=\"right\" data-stat=\"pts\">1026</td><td class=\"right\" data-stat=\"fg_pct\">.513</td><td class=\"right iz\" data-stat=\"fg3_pct\"></td><td class=\"right\" data-stat=\"ft_pct\">.722</td><td class=\"right\" data-stat=\"mp_per_g\">14.4</td><td class=\"right\" data-stat=\"pts_per_g\">6.9</td><td class=\"right\" data-stat=\"trb_per_g\">4.2</td><td class=\"right\" data-stat=\"ast_per_g\">0.4</td><td class=\"right\" data-stat=\"stl_per_g\">0.3</td><td class=\"right\" data-stat=\"blk_per_g\">0.2</td><td class=\"left\" csk=\"1967-02-08\" data-stat=\"birth_date\">Feb 8, 1967</td><td class=\"left\" data-stat=\"birth_city\">Birmingham</td></tr>\n",
      "<tr><th class=\"right\" csk=\"2\" data-stat=\"ranker\" scope=\"row\">2</th><td class=\"left\" csk=\"Askins,Keith\" data-append-csv=\"askinke01\" data-stat=\"player\"><a href=\"/players/a/askinke01.html\">Keith Askins</a></td><td class=\"right\" data-stat=\"years\">9</td><td class=\"right\" data-stat=\"year_min\">1991</td><td class=\"right\" data-stat=\"year_max\">1999</td><td class=\"right\" data-stat=\"g\">486</td><td class=\"right\" data-stat=\"mp\">7983</td><td class=\"right\" data-stat=\"fg\">677</td><td class=\"right\" data-stat=\"fga\">1688</td><td class=\"right\" data-stat=\"fg3\">275</td><td class=\"right\" data-stat=\"fg3a\">774</td><td class=\"right\" data-stat=\"ft\">223</td><td class=\"right\" data-stat=\"fta\">311</td><td class=\"right\" data-stat=\"orb\">525</td><td class=\"right\" data-stat=\"trb\">1428</td><td class=\"right\" data-stat=\"ast\">375</td><td class=\"right\" data-stat=\"stl\">278</td><td class=\"right\" data-stat=\"blk\">170</td><td class=\"right\" data-stat=\"tov\">321</td><td class=\"right\" data-stat=\"pf\">1094</td><td class=\"right\" data-stat=\"pts\">1852</td><td class=\"right\" data-stat=\"fg_pct\">.401</td><td class=\"right\" data-stat=\"fg3_pct\">.355</td><td class=\"right\" data-stat=\"ft_pct\">.717</td><td class=\"right\" data-stat=\"mp_per_g\">16.4</td><td class=\"right\" data-stat=\"pts_per_g\">3.8</td><td class=\"right\" data-stat=\"trb_per_g\">2.9</td><td class=\"right\" data-stat=\"ast_per_g\">0.8</td><td class=\"right\" data-stat=\"stl_per_g\">0.6</td><td class=\"right\" data-stat=\"blk_per_g\">0.3</td><td class=\"left\" csk=\"1967-12-15\" data-stat=\"birth_date\">Dec 15, 1967</td><td class=\"left\" data-stat=\"birth_city\">Athens</td></tr>\n",
      "<tr><th class=\"right\" csk=\"3\" data-stat=\"ranker\" scope=\"row\">3</th><td class=\"left\" csk=\"Bailey,Carl\" data-append-csv=\"baileca01\" data-stat=\"player\"><a href=\"/players/b/baileca01.html\">Carl Bailey</a></td><td class=\"right\" data-stat=\"years\">1</td><td class=\"right\" data-stat=\"year_min\">1982</td><td class=\"right\" data-stat=\"year_max\">1982</td><td class=\"right\" data-stat=\"g\">1</td><td class=\"right\" data-stat=\"mp\">7</td><td class=\"right\" data-stat=\"fg\">1</td><td class=\"right\" data-stat=\"fga\">1</td><td class=\"right iz\" data-stat=\"fg3\">0</td><td class=\"right iz\" data-stat=\"fg3a\">0</td><td class=\"right iz\" data-stat=\"ft\">0</td><td class=\"right iz\" data-stat=\"fta\">0</td><td class=\"right iz\" data-stat=\"orb\">0</td><td class=\"right iz\" data-stat=\"trb\">0</td><td class=\"right iz\" data-stat=\"ast\">0</td><td class=\"right iz\" data-stat=\"stl\">0</td><td class=\"right iz\" data-stat=\"blk\">0</td><td class=\"right\" data-stat=\"tov\">2</td><td class=\"right\" data-stat=\"pf\">2</td><td class=\"right\" data-stat=\"pts\">2</td><td class=\"right\" data-stat=\"fg_pct\">1.000</td><td class=\"right iz\" data-stat=\"fg3_pct\"></td><td class=\"right iz\" data-stat=\"ft_pct\"></td><td class=\"right\" data-stat=\"mp_per_g\">7.0</td><td class=\"right\" data-stat=\"pts_per_g\">2.0</td><td class=\"right iz\" data-stat=\"trb_per_g\">0.0</td><td class=\"right iz\" data-stat=\"ast_per_g\">0.0</td><td class=\"right iz\" data-stat=\"stl_per_g\">0.0</td><td class=\"right iz\" data-stat=\"blk_per_g\">0.0</td><td class=\"left\" csk=\"1958-04-23\" data-stat=\"birth_date\">Apr 23, 1958</td><td class=\"left\" data-stat=\"birth_city\">Birmingham</td></tr>\n",
      "<tr><th class=\"right\" csk=\"4\" data-stat=\"ranker\" scope=\"row\">4</th><td class=\"left\" csk=\"Barkley,Charles\" data-append-csv=\"barklch01\" data-stat=\"player\"><a href=\"/players/b/barklch01.html\">Charles Barkley</a>*</td><td class=\"right\" data-stat=\"years\">16</td><td class=\"right\" data-stat=\"year_min\">1985</td><td class=\"right\" data-stat=\"year_max\">2000</td><td class=\"right\" data-stat=\"g\">1073</td><td class=\"right\" data-stat=\"mp\">39330</td><td class=\"right\" data-stat=\"fg\">8435</td><td class=\"right\" data-stat=\"fga\">15605</td><td class=\"right\" data-stat=\"fg3\">538</td><td class=\"right\" data-stat=\"fg3a\">2020</td><td class=\"right\" data-stat=\"ft\">6349</td><td class=\"right\" data-stat=\"fta\">8643</td><td class=\"right\" data-stat=\"orb\">4260</td><td class=\"right\" data-stat=\"trb\">12546</td><td class=\"right\" data-stat=\"ast\">4215</td><td class=\"right\" data-stat=\"stl\">1648</td><td class=\"right\" data-stat=\"blk\">888</td><td class=\"right\" data-stat=\"tov\">3376</td><td class=\"right\" data-stat=\"pf\">3287</td><td class=\"right\" data-stat=\"pts\">23757</td><td class=\"right\" data-stat=\"fg_pct\">.541</td><td class=\"right\" data-stat=\"fg3_pct\">.266</td><td class=\"right\" data-stat=\"ft_pct\">.735</td><td class=\"right\" data-stat=\"mp_per_g\">36.7</td><td class=\"right\" data-stat=\"pts_per_g\">22.1</td><td class=\"right\" data-stat=\"trb_per_g\">11.7</td><td class=\"right\" data-stat=\"ast_per_g\">3.9</td><td class=\"right\" data-stat=\"stl_per_g\">1.5</td><td class=\"right\" data-stat=\"blk_per_g\">0.8</td><td class=\"left\" csk=\"1963-02-20\" data-stat=\"birth_date\">Feb 20, 1963</td><td class=\"left\" data-stat=\"birth_city\">Leeds</td></tr>\n",
      "<tr><th class=\"right\" csk=\"5\" data-stat=\"ranker\" scope=\"row\">5</th><td class=\"left\" csk=\"Bledsoe,Eric\" data-append-csv=\"bledser01\" data-stat=\"player\"><a href=\"/players/b/bledser01.html\">Eric Bledsoe</a></td><td class=\"right\" data-stat=\"years\">12</td><td class=\"right\" data-stat=\"year_min\">2011</td><td class=\"right\" data-stat=\"year_max\">2022</td><td class=\"right\" data-stat=\"g\">756</td><td class=\"right\" data-stat=\"mp\">21021</td><td class=\"right\" data-stat=\"fg\">3689</td><td class=\"right\" data-stat=\"fga\">8169</td><td class=\"right\" data-stat=\"fg3\">854</td><td class=\"right\" data-stat=\"fg3a\">2545</td><td class=\"right\" data-stat=\"ft\">2116</td><td class=\"right\" data-stat=\"fta\">2698</td><td class=\"right\" data-stat=\"orb\">570</td><td class=\"right\" data-stat=\"trb\">2937</td><td class=\"right\" data-stat=\"ast\">3545</td><td class=\"right\" data-stat=\"stl\">1028</td><td class=\"right\" data-stat=\"blk\">344</td><td class=\"right\" data-stat=\"tov\">1888</td><td class=\"right\" data-stat=\"pf\">1493</td><td class=\"right\" data-stat=\"pts\">10348</td><td class=\"right\" data-stat=\"fg_pct\">.452</td><td class=\"right\" data-stat=\"fg3_pct\">.336</td><td class=\"right\" data-stat=\"ft_pct\">.784</td><td class=\"right\" data-stat=\"mp_per_g\">27.8</td><td class=\"right\" data-stat=\"pts_per_g\">13.7</td><td class=\"right\" data-stat=\"trb_per_g\">3.9</td><td class=\"right\" data-stat=\"ast_per_g\">4.7</td><td class=\"right\" data-stat=\"stl_per_g\">1.4</td><td class=\"right\" data-stat=\"blk_per_g\">0.5</td><td class=\"left\" csk=\"1989-12-09\" data-stat=\"birth_date\">Dec 9, 1989</td><td class=\"left\" data-stat=\"birth_city\">Birmingham</td></tr>\n",
      "<tr><th class=\"right\" csk=\"6\" data-stat=\"ranker\" scope=\"row\">6</th><td class=\"left\" csk=\"Boswell,Tom\" data-append-csv=\"bosweto01\" data-stat=\"player\"><a href=\"/players/b/bosweto01.html\">Tom Boswell</a></td><td class=\"right\" data-stat=\"years\">6</td><td class=\"right\" data-stat=\"year_min\">1976</td><td class=\"right\" data-stat=\"year_max\">1984</td><td class=\"right\" data-stat=\"g\">366</td><td class=\"right\" data-stat=\"mp\">7046</td><td class=\"right\" data-stat=\"fg\">1096</td><td class=\"right\" data-stat=\"fga\">2058</td><td class=\"right\" data-stat=\"fg3\">6</td><td class=\"right\" data-stat=\"fg3a\">11</td><td class=\"right\" data-stat=\"ft\">623</td><td class=\"right\" data-stat=\"fta\">860</td><td class=\"right\" data-stat=\"orb\">676</td><td class=\"right\" data-stat=\"trb\">1709</td><td class=\"right\" data-stat=\"ast\">591</td><td class=\"right\" data-stat=\"stl\">142</td><td class=\"right\" data-stat=\"blk\">111</td><td class=\"right\" data-stat=\"tov\">474</td><td class=\"right\" data-stat=\"pf\">1102</td><td class=\"right\" data-stat=\"pts\">2821</td><td class=\"right\" data-stat=\"fg_pct\">.533</td><td class=\"right iz\" data-stat=\"fg3_pct\"></td><td class=\"right\" data-stat=\"ft_pct\">.724</td><td class=\"right\" data-stat=\"mp_per_g\">19.3</td><td class=\"right\" data-stat=\"pts_per_g\">7.7</td><td class=\"right\" data-stat=\"trb_per_g\">4.7</td><td class=\"right\" data-stat=\"ast_per_g\">1.6</td><td class=\"right\" data-stat=\"stl_per_g\">0.4</td><td class=\"right\" data-stat=\"blk_per_g\">0.3</td><td class=\"left\" csk=\"1953-10-02\" data-stat=\"birth_date\">Oct 2, 1953</td><td class=\"left\" data-stat=\"birth_city\">Montgomery</td></tr>\n",
      "<tr><th class=\"right\" csk=\"7\" data-stat=\"ranker\" scope=\"row\">7</th><td class=\"left\" csk=\"Brown,Kobe\" data-append-csv=\"brownko01\" data-stat=\"player\"><a href=\"/players/b/brownko01.html\"><strong>Kobe Brown</strong></a></td><td class=\"right\" data-stat=\"years\">1</td><td class=\"right\" data-stat=\"year_min\">2024</td><td class=\"right\" data-stat=\"year_max\">2024</td><td class=\"right\" data-stat=\"g\">43</td><td class=\"right\" data-stat=\"mp\">356</td><td class=\"right\" data-stat=\"fg\">33</td><td class=\"right\" data-stat=\"fga\">80</td><td class=\"right\" data-stat=\"fg3\">13</td><td class=\"right\" data-stat=\"fg3a\">45</td><td class=\"right\" data-stat=\"ft\">1</td><td class=\"right\" data-stat=\"fta\">2</td><td class=\"right\" data-stat=\"orb\">17</td><td class=\"right\" data-stat=\"trb\">56</td><td class=\"right\" data-stat=\"ast\">21</td><td class=\"right\" data-stat=\"stl\">10</td><td class=\"right\" data-stat=\"blk\">4</td><td class=\"right\" data-stat=\"tov\">9</td><td class=\"right\" data-stat=\"pf\">46</td><td class=\"right\" data-stat=\"pts\">80</td><td class=\"right\" data-stat=\"fg_pct\">.413</td><td class=\"right\" data-stat=\"fg3_pct\">.289</td><td class=\"right\" data-stat=\"ft_pct\">.500</td><td class=\"right\" data-stat=\"mp_per_g\">8.3</td><td class=\"right\" data-stat=\"pts_per_g\">1.9</td><td class=\"right\" data-stat=\"trb_per_g\">1.3</td><td class=\"right\" data-stat=\"ast_per_g\">0.5</td><td class=\"right\" data-stat=\"stl_per_g\">0.2</td><td class=\"right\" data-stat=\"blk_per_g\">0.1</td><td class=\"left\" csk=\"2000-01-01\" data-stat=\"birth_date\">Jan 1, 2000</td><td class=\"left\" data-stat=\"birth_city\">Huntsville</td></tr>\n",
      "<tr><th class=\"right\" csk=\"8\" data-stat=\"ranker\" scope=\"row\">8</th><td class=\"left\" csk=\"Bustion,David\" data-append-csv=\"bustida01\" data-stat=\"player\"><a href=\"/players/b/bustida01.html\">David Bustion</a></td><td class=\"right\" data-stat=\"years\">1</td><td class=\"right\" data-stat=\"year_min\">1973</td><td class=\"right\" data-stat=\"year_max\">1973</td><td class=\"right\" data-stat=\"g\">47</td><td class=\"right\" data-stat=\"mp\">355</td><td class=\"right\" data-stat=\"fg\">58</td><td class=\"right\" data-stat=\"fga\">133</td><td class=\"right iz\" data-stat=\"fg3\">0</td><td class=\"right iz\" data-stat=\"fg3a\">0</td><td class=\"right\" data-stat=\"ft\">42</td><td class=\"right\" data-stat=\"fta\">59</td><td class=\"right\" data-stat=\"orb\">39</td><td class=\"right\" data-stat=\"trb\">101</td><td class=\"right\" data-stat=\"ast\">21</td><td class=\"right iz\" data-stat=\"stl\"></td><td class=\"right iz\" data-stat=\"blk\"></td><td class=\"right\" data-stat=\"tov\">54</td><td class=\"right\" data-stat=\"pf\">82</td><td class=\"right\" data-stat=\"pts\">158</td><td class=\"right\" data-stat=\"fg_pct\">.436</td><td class=\"right iz\" data-stat=\"fg3_pct\"></td><td class=\"right\" data-stat=\"ft_pct\">.712</td><td class=\"right\" data-stat=\"mp_per_g\">7.6</td><td class=\"right\" data-stat=\"pts_per_g\">3.4</td><td class=\"right\" data-stat=\"trb_per_g\">2.1</td><td class=\"right\" data-stat=\"ast_per_g\">0.4</td><td class=\"right iz\" data-stat=\"stl_per_g\"></td><td class=\"right iz\" data-stat=\"blk_per_g\"></td><td class=\"left\" csk=\"1949-08-30\" data-stat=\"birth_date\">Aug 30, 1949</td><td class=\"left\" data-stat=\"birth_city\">Gadsden</td></tr>\n",
      "<tr><th class=\"right\" csk=\"9\" data-stat=\"ranker\" scope=\"row\">9</th><td class=\"left\" csk=\"Butler,Al\" data-append-csv=\"butleal01\" data-stat=\"player\"><a href=\"/players/b/butleal01.html\">Al Butler</a></td><td class=\"right\" data-stat=\"years\">4</td><td class=\"right\" data-stat=\"year_min\">1962</td><td class=\"right\" data-stat=\"year_max\">1965</td><td class=\"right\" data-stat=\"g\">234</td><td class=\"right\" data-stat=\"mp\">5055</td><td class=\"right\" data-stat=\"fg\">930</td><td class=\"right\" data-stat=\"fga\">2119</td><td class=\"right iz\" data-stat=\"fg3\"></td><td class=\"right iz\" data-stat=\"fg3a\"></td><td class=\"right\" data-stat=\"ft\">422</td><td class=\"right\" data-stat=\"fta\">571</td><td class=\"right iz\" data-stat=\"orb\"></td><td class=\"right\" data-stat=\"trb\">696</td><td class=\"right\" data-stat=\"ast\">530</td><td class=\"right iz\" data-stat=\"stl\"></td><td class=\"right iz\" data-stat=\"blk\"></td><td class=\"right iz\" data-stat=\"tov\"></td><td class=\"right\" data-stat=\"pf\">493</td><td class=\"right\" data-stat=\"pts\">2282</td><td class=\"right\" data-stat=\"fg_pct\">.439</td><td class=\"right iz\" data-stat=\"fg3_pct\"></td><td class=\"right\" data-stat=\"ft_pct\">.739</td><td class=\"right\" data-stat=\"mp_per_g\">21.6</td><td class=\"right\" data-stat=\"pts_per_g\">9.8</td><td class=\"right\" data-stat=\"trb_per_g\">3.0</td><td class=\"right\" data-stat=\"ast_per_g\">2.3</td><td class=\"right iz\" data-stat=\"stl_per_g\"></td><td class=\"right iz\" data-stat=\"blk_per_g\"></td><td class=\"left\" csk=\"1938-07-09\" data-stat=\"birth_date\">Jul 9, 1938</td><td class=\"left\" data-stat=\"birth_city\">Birmingham</td></tr>\n",
      "<tr><th class=\"right\" csk=\"10\" data-stat=\"ranker\" scope=\"row\">10</th><td class=\"left\" csk=\"Caffey,Jason\" data-append-csv=\"caffeja01\" data-stat=\"player\"><a href=\"/players/c/caffeja01.html\">Jason Caffey</a></td><td class=\"right\" data-stat=\"years\">8</td><td class=\"right\" data-stat=\"year_min\">1996</td><td class=\"right\" data-stat=\"year_max\">2003</td><td class=\"right\" data-stat=\"g\">462</td><td class=\"right\" data-stat=\"mp\">9045</td><td class=\"right\" data-stat=\"fg\">1276</td><td class=\"right\" data-stat=\"fga\">2652</td><td class=\"right iz\" data-stat=\"fg3\">0</td><td class=\"right\" data-stat=\"fg3a\">8</td><td class=\"right\" data-stat=\"ft\">816</td><td class=\"right\" data-stat=\"fta\">1282</td><td class=\"right\" data-stat=\"orb\">841</td><td class=\"right\" data-stat=\"trb\">2022</td><td class=\"right\" data-stat=\"ast\">420</td><td class=\"right\" data-stat=\"stl\">209</td><td class=\"right\" data-stat=\"blk\">110</td><td class=\"right\" data-stat=\"tov\">647</td><td class=\"right\" data-stat=\"pf\">1148</td><td class=\"right\" data-stat=\"pts\">3368</td><td class=\"right\" data-stat=\"fg_pct\">.481</td><td class=\"right iz\" data-stat=\"fg3_pct\">.000</td><td class=\"right\" data-stat=\"ft_pct\">.637</td><td class=\"right\" data-stat=\"mp_per_g\">19.6</td><td class=\"right\" data-stat=\"pts_per_g\">7.3</td><td class=\"right\" data-stat=\"trb_per_g\">4.4</td><td class=\"right\" data-stat=\"ast_per_g\">0.9</td><td class=\"right\" data-stat=\"stl_per_g\">0.5</td><td class=\"right\" data-stat=\"blk_per_g\">0.2</td><td class=\"left\" csk=\"1973-06-12\" data-stat=\"birth_date\">Jun 12, 1973</td><td class=\"left\" data-stat=\"birth_city\">Mobile</td></tr>\n",
      "<tr><th class=\"right\" csk=\"11\" data-stat=\"ranker\" scope=\"row\">11</th><td class=\"left\" csk=\"Carroll,DeMarre\" data-append-csv=\"carrode01\" data-stat=\"player\"><a href=\"/players/c/carrode01.html\">DeMarre Carroll</a></td><td class=\"right\" data-stat=\"years\">11</td><td class=\"right\" data-stat=\"year_min\">2010</td><td class=\"right\" data-stat=\"year_max\">2020</td><td class=\"right\" data-stat=\"g\">578</td><td class=\"right\" data-stat=\"mp\">13675</td><td class=\"right\" data-stat=\"fg\">1806</td><td class=\"right\" data-stat=\"fga\">4204</td><td class=\"right\" data-stat=\"fg3\">658</td><td class=\"right\" data-stat=\"fg3a\">1839</td><td class=\"right\" data-stat=\"ft\">880</td><td class=\"right\" data-stat=\"fta\">1188</td><td class=\"right\" data-stat=\"orb\">655</td><td class=\"right\" data-stat=\"trb\">2454</td><td class=\"right\" data-stat=\"ast\">726</td><td class=\"right\" data-stat=\"stl\">524</td><td class=\"right\" data-stat=\"blk\">151</td><td class=\"right\" data-stat=\"tov\">498</td><td class=\"right\" data-stat=\"pf\">1127</td><td class=\"right\" data-stat=\"pts\">5150</td><td class=\"right\" data-stat=\"fg_pct\">.430</td><td class=\"right\" data-stat=\"fg3_pct\">.358</td><td class=\"right\" data-stat=\"ft_pct\">.741</td><td class=\"right\" data-stat=\"mp_per_g\">23.7</td><td class=\"right\" data-stat=\"pts_per_g\">8.9</td><td class=\"right\" data-stat=\"trb_per_g\">4.2</td><td class=\"right\" data-stat=\"ast_per_g\">1.3</td><td class=\"right\" data-stat=\"stl_per_g\">0.9</td><td class=\"right\" data-stat=\"blk_per_g\">0.3</td><td class=\"left\" csk=\"1986-07-27\" data-stat=\"birth_date\">Jul 27, 1986</td><td class=\"left\" data-stat=\"birth_city\">Birmingham</td></tr>\n",
      "<tr><th class=\"right\" csk=\"12\" data-stat=\"ranker\" scope=\"row\">12</th><td class=\"left\" csk=\"Cattage,Bobby\" data-append-csv=\"cattabo01\" data-stat=\"player\"><a href=\"/players/c/cattabo01.html\">Bobby Cattage</a></td><td class=\"right\" data-stat=\"years\">2</td><td class=\"right\" data-stat=\"year_min\">1982</td><td class=\"right\" data-stat=\"year_max\">1986</td><td class=\"right\" data-stat=\"g\">78</td><td class=\"right\" data-stat=\"mp\">522</td><td class=\"right\" data-stat=\"fg\">88</td><td class=\"right\" data-stat=\"fga\">218</td><td class=\"right\" data-stat=\"fg3\">1</td><td class=\"right\" data-stat=\"fg3a\">7</td><td class=\"right\" data-stat=\"ft\">65</td><td class=\"right\" data-stat=\"fta\">85</td><td class=\"right\" data-stat=\"orb\">37</td><td class=\"right\" data-stat=\"trb\">107</td><td class=\"right\" data-stat=\"ast\">11</td><td class=\"right\" data-stat=\"stl\">13</td><td class=\"right iz\" data-stat=\"blk\">0</td><td class=\"right\" data-stat=\"tov\">31</td><td class=\"right\" data-stat=\"pf\">81</td><td class=\"right\" data-stat=\"pts\">242</td><td class=\"right\" data-stat=\"fg_pct\">.404</td><td class=\"right\" data-stat=\"fg3_pct\">.143</td><td class=\"right\" data-stat=\"ft_pct\">.765</td><td class=\"right\" data-stat=\"mp_per_g\">6.7</td><td class=\"right\" data-stat=\"pts_per_g\">3.1</td><td class=\"right\" data-stat=\"trb_per_g\">1.4</td><td class=\"right\" data-stat=\"ast_per_g\">0.1</td><td class=\"right\" data-stat=\"stl_per_g\">0.2</td><td class=\"right iz\" data-stat=\"blk_per_g\">0.0</td><td class=\"left\" csk=\"1958-08-17\" data-stat=\"birth_date\">Aug 17, 1958</td><td class=\"left\" data-stat=\"birth_city\">Huntsville</td></tr>\n",
      "<tr><th class=\"right\" csk=\"13\" data-stat=\"ranker\" scope=\"row\">13</th><td class=\"left\" csk=\"Coleman,Derrick\" data-append-csv=\"colemde01\" data-stat=\"player\"><a href=\"/players/c/colemde01.html\">Derrick Coleman</a></td><td class=\"right\" data-stat=\"years\">15</td><td class=\"right\" data-stat=\"year_min\">1991</td><td class=\"right\" data-stat=\"year_max\">2005</td><td class=\"right\" data-stat=\"g\">781</td><td class=\"right\" data-stat=\"mp\">25903</td><td class=\"right\" data-stat=\"fg\">4616</td><td class=\"right\" data-stat=\"fga\">10335</td><td class=\"right\" data-stat=\"fg3\">326</td><td class=\"right\" data-stat=\"fg3a\">1105</td><td class=\"right\" data-stat=\"ft\">3326</td><td class=\"right\" data-stat=\"fta\">4326</td><td class=\"right\" data-stat=\"orb\">2079</td><td class=\"right\" data-stat=\"trb\">7232</td><td class=\"right\" data-stat=\"ast\">1985</td><td class=\"right\" data-stat=\"stl\">606</td><td class=\"right\" data-stat=\"blk\">1051</td><td class=\"right\" data-stat=\"tov\">2036</td><td class=\"right\" data-stat=\"pf\">2062</td><td class=\"right\" data-stat=\"pts\">12884</td><td class=\"right\" data-stat=\"fg_pct\">.447</td><td class=\"right\" data-stat=\"fg3_pct\">.295</td><td class=\"right\" data-stat=\"ft_pct\">.769</td><td class=\"right\" data-stat=\"mp_per_g\">33.2</td><td class=\"right\" data-stat=\"pts_per_g\">16.5</td><td class=\"right\" data-stat=\"trb_per_g\">9.3</td><td class=\"right\" data-stat=\"ast_per_g\">2.5</td><td class=\"right\" data-stat=\"stl_per_g\">0.8</td><td class=\"right\" data-stat=\"blk_per_g\">1.3</td><td class=\"left\" csk=\"1967-06-21\" data-stat=\"birth_date\">Jun 21, 1967</td><td class=\"left\" data-stat=\"birth_city\">Mobile</td></tr>\n",
      "<tr><th class=\"right\" csk=\"14\" data-stat=\"ranker\" scope=\"row\">14</th><td class=\"left\" csk=\"Cousins,DeMarcus\" data-append-csv=\"couside01\" data-stat=\"player\"><a href=\"/players/c/couside01.html\">DeMarcus Cousins</a></td><td class=\"right\" data-stat=\"years\">11</td><td class=\"right\" data-stat=\"year_min\">2011</td><td class=\"right\" data-stat=\"year_max\">2022</td><td class=\"right\" data-stat=\"g\">654</td><td class=\"right\" data-stat=\"mp\">19509</td><td class=\"right\" data-stat=\"fg\">4562</td><td class=\"right\" data-stat=\"fga\">9924</td><td class=\"right\" data-stat=\"fg3\">426</td><td class=\"right\" data-stat=\"fg3a\">1288</td><td class=\"right\" data-stat=\"ft\">3252</td><td class=\"right\" data-stat=\"fta\">4411</td><td class=\"right\" data-stat=\"orb\">1692</td><td class=\"right\" data-stat=\"trb\">6664</td><td class=\"right\" data-stat=\"ast\">1979</td><td class=\"right\" data-stat=\"stl\">874</td><td class=\"right\" data-stat=\"blk\">742</td><td class=\"right\" data-stat=\"tov\">2149</td><td class=\"right\" data-stat=\"pf\">2421</td><td class=\"right\" data-stat=\"pts\">12802</td><td class=\"right\" data-stat=\"fg_pct\">.460</td><td class=\"right\" data-stat=\"fg3_pct\">.331</td><td class=\"right\" data-stat=\"ft_pct\">.737</td><td class=\"right\" data-stat=\"mp_per_g\">29.8</td><td class=\"right\" data-stat=\"pts_per_g\">19.6</td><td class=\"right\" data-stat=\"trb_per_g\">10.2</td><td class=\"right\" data-stat=\"ast_per_g\">3.0</td><td class=\"right\" data-stat=\"stl_per_g\">1.3</td><td class=\"right\" data-stat=\"blk_per_g\">1.1</td><td class=\"left\" csk=\"1990-08-13\" data-stat=\"birth_date\">Aug 13, 1990</td><td class=\"left\" data-stat=\"birth_city\">Mobile</td></tr>\n",
      "<tr><th class=\"right\" csk=\"15\" data-stat=\"ranker\" scope=\"row\">15</th><td class=\"left\" csk=\"Curry,Michael\" data-append-csv=\"currymi01\" data-stat=\"player\"><a href=\"/players/c/currymi01.html\">Michael Curry</a></td><td class=\"right\" data-stat=\"years\">11</td><td class=\"right\" data-stat=\"year_min\">1994</td><td class=\"right\" data-stat=\"year_max\">2005</td><td class=\"right\" data-stat=\"g\">667</td><td class=\"right\" data-stat=\"mp\">13208</td><td class=\"right\" data-stat=\"fg\">1094</td><td class=\"right\" data-stat=\"fga\">2448</td><td class=\"right\" data-stat=\"fg3\">79</td><td class=\"right\" data-stat=\"fg3a\">265</td><td class=\"right\" data-stat=\"ft\">719</td><td class=\"right\" data-stat=\"fta\">872</td><td class=\"right\" data-stat=\"orb\">198</td><td class=\"right\" data-stat=\"trb\">1045</td><td class=\"right\" data-stat=\"ast\">804</td><td class=\"right\" data-stat=\"stl\">333</td><td class=\"right\" data-stat=\"blk\">66</td><td class=\"right\" data-stat=\"tov\">459</td><td class=\"right\" data-stat=\"pf\">1523</td><td class=\"right\" data-stat=\"pts\">2986</td><td class=\"right\" data-stat=\"fg_pct\">.447</td><td class=\"right\" data-stat=\"fg3_pct\">.298</td><td class=\"right\" data-stat=\"ft_pct\">.825</td><td class=\"right\" data-stat=\"mp_per_g\">19.8</td><td class=\"right\" data-stat=\"pts_per_g\">4.5</td><td class=\"right\" data-stat=\"trb_per_g\">1.6</td><td class=\"right\" data-stat=\"ast_per_g\">1.2</td><td class=\"right\" data-stat=\"stl_per_g\">0.5</td><td class=\"right\" data-stat=\"blk_per_g\">0.1</td><td class=\"left\" csk=\"1968-08-22\" data-stat=\"birth_date\">Aug 22, 1968</td><td class=\"left\" data-stat=\"birth_city\">Anniston</td></tr>\n",
      "<tr><th class=\"right\" csk=\"16\" data-stat=\"ranker\" scope=\"row\">16</th><td class=\"left\" csk=\"Davison,JD\" data-append-csv=\"davisjd01\" data-stat=\"player\"><a href=\"/players/d/davisjd01.html\"><strong>JD Davison</strong></a></td><td class=\"right\" data-stat=\"years\">2</td><td class=\"right\" data-stat=\"year_min\">2023</td><td class=\"right\" data-stat=\"year_max\">2024</td><td class=\"right\" data-stat=\"g\">19</td><td class=\"right\" data-stat=\"mp\">95</td><td class=\"right\" data-stat=\"fg\">13</td><td class=\"right\" data-stat=\"fga\">29</td><td class=\"right\" data-stat=\"fg3\">5</td><td class=\"right\" data-stat=\"fg3a\">13</td><td class=\"right\" data-stat=\"ft\">3</td><td class=\"right\" data-stat=\"fta\">4</td><td class=\"right\" data-stat=\"orb\">4</td><td class=\"right\" data-stat=\"trb\">16</td><td class=\"right\" data-stat=\"ast\">19</td><td class=\"right\" data-stat=\"stl\">2</td><td class=\"right\" data-stat=\"blk\">3</td><td class=\"right\" data-stat=\"tov\">5</td><td class=\"right\" data-stat=\"pf\">7</td><td class=\"right\" data-stat=\"pts\">34</td><td class=\"right\" data-stat=\"fg_pct\">.448</td><td class=\"right\" data-stat=\"fg3_pct\">.385</td><td class=\"right\" data-stat=\"ft_pct\">.750</td><td class=\"right\" data-stat=\"mp_per_g\">5.0</td><td class=\"right\" data-stat=\"pts_per_g\">1.8</td><td class=\"right\" data-stat=\"trb_per_g\">0.8</td><td class=\"right\" data-stat=\"ast_per_g\">1.0</td><td class=\"right\" data-stat=\"stl_per_g\">0.1</td><td class=\"right\" data-stat=\"blk_per_g\">0.2</td><td class=\"left\" csk=\"2002-10-03\" data-stat=\"birth_date\">Oct 3, 2002</td><td class=\"left\" data-stat=\"birth_city\">Montgomery</td></tr>\n",
      "<tr><th class=\"right\" csk=\"17\" data-stat=\"ranker\" scope=\"row\">17</th><td class=\"left\" csk=\"Dembo,Fennis\" data-append-csv=\"dembofe01\" data-stat=\"player\"><a href=\"/players/d/dembofe01.html\">Fennis Dembo</a></td><td class=\"right\" data-stat=\"years\">1</td><td class=\"right\" data-stat=\"year_min\">1989</td><td class=\"right\" data-stat=\"year_max\">1989</td><td class=\"right\" data-stat=\"g\">31</td><td class=\"right\" data-stat=\"mp\">74</td><td class=\"right\" data-stat=\"fg\">14</td><td class=\"right\" data-stat=\"fga\">42</td><td class=\"right iz\" data-stat=\"fg3\">0</td><td class=\"right\" data-stat=\"fg3a\">4</td><td class=\"right\" data-stat=\"ft\">8</td><td class=\"right\" data-stat=\"fta\">10</td><td class=\"right\" data-stat=\"orb\">8</td><td class=\"right\" data-stat=\"trb\">23</td><td class=\"right\" data-stat=\"ast\">5</td><td class=\"right\" data-stat=\"stl\">1</td><td class=\"right iz\" data-stat=\"blk\">0</td><td class=\"right\" data-stat=\"tov\">7</td><td class=\"right\" data-stat=\"pf\">15</td><td class=\"right\" data-stat=\"pts\">36</td><td class=\"right\" data-stat=\"fg_pct\">.333</td><td class=\"right iz\" data-stat=\"fg3_pct\">.000</td><td class=\"right\" data-stat=\"ft_pct\">.800</td><td class=\"right\" data-stat=\"mp_per_g\">2.4</td><td class=\"right\" data-stat=\"pts_per_g\">1.2</td><td class=\"right\" data-stat=\"trb_per_g\">0.7</td><td class=\"right\" data-stat=\"ast_per_g\">0.2</td><td class=\"right iz\" data-stat=\"stl_per_g\">0.0</td><td class=\"right iz\" data-stat=\"blk_per_g\">0.0</td><td class=\"left\" csk=\"1966-01-24\" data-stat=\"birth_date\">Jan 24, 1966</td><td class=\"left\" data-stat=\"birth_city\">Mobile</td></tr>\n",
      "<tr><th class=\"right\" csk=\"18\" data-stat=\"ranker\" scope=\"row\">18</th><td class=\"left\" csk=\"Douglas,John\" data-append-csv=\"dougljo01\" data-stat=\"player\"><a href=\"/players/d/dougljo01.html\">John Douglas</a></td><td class=\"right\" data-stat=\"years\">2</td><td class=\"right\" data-stat=\"year_min\">1982</td><td class=\"right\" data-stat=\"year_max\">1983</td><td class=\"right\" data-stat=\"g\">67</td><td class=\"right\" data-stat=\"mp\">1043</td><td class=\"right\" data-stat=\"fg\">182</td><td class=\"right\" data-stat=\"fga\">395</td><td class=\"right\" data-stat=\"fg3\">19</td><td class=\"right\" data-stat=\"fg3a\">61</td><td class=\"right\" data-stat=\"ft\">69</td><td class=\"right\" data-stat=\"fta\">104</td><td class=\"right\" data-stat=\"orb\">27</td><td class=\"right\" data-stat=\"trb\">91</td><td class=\"right\" data-stat=\"ast\">147</td><td class=\"right\" data-stat=\"stl\">48</td><td class=\"right\" data-stat=\"blk\">9</td><td class=\"right\" data-stat=\"tov\">92</td><td class=\"right\" data-stat=\"pf\">147</td><td class=\"right\" data-stat=\"pts\">452</td><td class=\"right\" data-stat=\"fg_pct\">.461</td><td class=\"right\" data-stat=\"fg3_pct\">.311</td><td class=\"right\" data-stat=\"ft_pct\">.663</td><td class=\"right\" data-stat=\"mp_per_g\">15.6</td><td class=\"right\" data-stat=\"pts_per_g\">6.7</td><td class=\"right\" data-stat=\"trb_per_g\">1.4</td><td class=\"right\" data-stat=\"ast_per_g\">2.2</td><td class=\"right\" data-stat=\"stl_per_g\">0.7</td><td class=\"right\" data-stat=\"blk_per_g\">0.1</td><td class=\"left\" csk=\"1956-06-12\" data-stat=\"birth_date\">Jun 12, 1956</td><td class=\"left\" data-stat=\"birth_city\">Town Creek</td></tr>\n",
      "<tr><th class=\"right\" csk=\"19\" data-stat=\"ranker\" scope=\"row\">19</th><td class=\"left\" csk=\"Douglas,Leon\" data-append-csv=\"douglle01\" data-stat=\"player\"><a href=\"/players/d/douglle01.html\">Leon Douglas</a></td><td class=\"right\" data-stat=\"years\">7</td><td class=\"right\" data-stat=\"year_min\">1977</td><td class=\"right\" data-stat=\"year_max\">1983</td><td class=\"right\" data-stat=\"g\">456</td><td class=\"right\" data-stat=\"mp\">10111</td><td class=\"right\" data-stat=\"fg\">1386</td><td class=\"right\" data-stat=\"fga\">2798</td><td class=\"right iz\" data-stat=\"fg3\">0</td><td class=\"right\" data-stat=\"fg3a\">4</td><td class=\"right\" data-stat=\"ft\">815</td><td class=\"right\" data-stat=\"fta\">1355</td><td class=\"right\" data-stat=\"orb\">1045</td><td class=\"right\" data-stat=\"trb\">2954</td><td class=\"right\" data-stat=\"ast\">479</td><td class=\"right\" data-stat=\"stl\">210</td><td class=\"right\" data-stat=\"blk\">325</td><td class=\"right\" data-stat=\"tov\">660</td><td class=\"right\" data-stat=\"pf\">1631</td><td class=\"right\" data-stat=\"pts\">3587</td><td class=\"right\" data-stat=\"fg_pct\">.495</td><td class=\"right iz\" data-stat=\"fg3_pct\"></td><td class=\"right\" data-stat=\"ft_pct\">.601</td><td class=\"right\" data-stat=\"mp_per_g\">22.2</td><td class=\"right\" data-stat=\"pts_per_g\">7.9</td><td class=\"right\" data-stat=\"trb_per_g\">6.5</td><td class=\"right\" data-stat=\"ast_per_g\">1.1</td><td class=\"right\" data-stat=\"stl_per_g\">0.5</td><td class=\"right\" data-stat=\"blk_per_g\">0.7</td><td class=\"left\" csk=\"1954-08-26\" data-stat=\"birth_date\">Aug 26, 1954</td><td class=\"left\" data-stat=\"birth_city\">Leighton</td></tr>\n",
      "<tr><th class=\"right\" csk=\"20\" data-stat=\"ranker\" scope=\"row\">20</th><td class=\"left\" csk=\"Drew,John\" data-append-csv=\"drewjo01\" data-stat=\"player\"><a href=\"/players/d/drewjo01.html\">John Drew</a></td><td class=\"right\" data-stat=\"years\">11</td><td class=\"right\" data-stat=\"year_min\">1975</td><td class=\"right\" data-stat=\"year_max\">1985</td><td class=\"right\" data-stat=\"g\">739</td><td class=\"right\" data-stat=\"mp\">21828</td><td class=\"right\" data-stat=\"fg\">5481</td><td class=\"right\" data-stat=\"fga\">11658</td><td class=\"right\" data-stat=\"fg3\">10</td><td class=\"right\" data-stat=\"fg3a\">57</td><td class=\"right\" data-stat=\"ft\">4319</td><td class=\"right\" data-stat=\"fta\">5774</td><td class=\"right\" data-stat=\"orb\">2158</td><td class=\"right\" data-stat=\"trb\">5088</td><td class=\"right\" data-stat=\"ast\">1224</td><td class=\"right\" data-stat=\"stl\">1004</td><td class=\"right\" data-stat=\"blk\">193</td><td class=\"right\" data-stat=\"tov\">1402</td><td class=\"right\" data-stat=\"pf\">2641</td><td class=\"right\" data-stat=\"pts\">15291</td><td class=\"right\" data-stat=\"fg_pct\">.470</td><td class=\"right iz\" data-stat=\"fg3_pct\"></td><td class=\"right\" data-stat=\"ft_pct\">.748</td><td class=\"right\" data-stat=\"mp_per_g\">29.5</td><td class=\"right\" data-stat=\"pts_per_g\">20.7</td><td class=\"right\" data-stat=\"trb_per_g\">6.9</td><td class=\"right\" data-stat=\"ast_per_g\">1.7</td><td class=\"right\" data-stat=\"stl_per_g\">1.4</td><td class=\"right\" data-stat=\"blk_per_g\">0.3</td><td class=\"left\" csk=\"1954-09-30\" data-stat=\"birth_date\">Sep 30, 1954</td><td class=\"left\" data-stat=\"birth_city\">Vredenburgh</td></tr>\n",
      "<tr class=\"thead\">\n",
      "<th aria-label=\"Rk\" class=\"ranker sort_default_asc show_partial_when_sorting center\" data-stat=\"ranker\" data-tip=\"Rank\">Rk</th>\n",
      "<th aria-label=\"Player\" class=\"sort_default_asc center\" data-stat=\"player\">Player</th>\n",
      "<th aria-label=\"Yrs\" class=\"center\" data-stat=\"years\">Yrs</th>\n",
      "<th aria-label=\"From\" class=\"sort_default_asc center\" data-stat=\"year_min\" data-tip=\"First year\">From</th>\n",
      "<th aria-label=\"To\" class=\"sort_default_asc center\" data-stat=\"year_max\" data-tip=\"Last year\">To</th>\n",
      "<th aria-label=\"Games\" class=\"center\" data-stat=\"g\" data-tip=\"Games\">G</th>\n",
      "<th aria-label=\"Minutes Played\" class=\"center\" data-stat=\"mp\" data-tip=\"Minutes Played\">MP</th>\n",
      "<th aria-label=\"Field Goals\" class=\"center\" data-stat=\"fg\" data-tip=\"Field Goals\">FG</th>\n",
      "<th aria-label=\"FGA\" class=\"center\" data-stat=\"fga\" data-tip=\"Field Goal Attempts\">FGA</th>\n",
      "<th aria-label=\"3-Point Field Goals\" class=\"center\" data-stat=\"fg3\" data-tip=\"3-Point Field Goals\">3P</th>\n",
      "<th aria-label=\"3-Point Field Goal Attempts\" class=\"center\" data-stat=\"fg3a\" data-tip=\"3-Point Field Goal Attempts\">3PA</th>\n",
      "<th aria-label=\"Free Throws\" class=\"center\" data-stat=\"ft\" data-tip=\"Free Throws\">FT</th>\n",
      "<th aria-label=\"Free Throw Attempts\" class=\"center\" data-stat=\"fta\" data-tip=\"Free Throw Attempts\">FTA</th>\n",
      "<th aria-label=\"Offensive Rebounds\" class=\"center\" data-stat=\"orb\" data-tip=\"Offensive Rebounds\">ORB</th>\n",
      "<th aria-label=\"Total Rebounds\" class=\"center\" data-stat=\"trb\" data-tip=\"Total Rebounds\">TRB</th>\n",
      "<th aria-label=\"Assists\" class=\"center\" data-stat=\"ast\" data-tip=\"Assists\">AST</th>\n",
      "<th aria-label=\"Steals\" class=\"center\" data-stat=\"stl\" data-tip=\"Steals\">STL</th>\n",
      "<th aria-label=\"Blocks\" class=\"center\" data-stat=\"blk\" data-tip=\"Blocks\">BLK</th>\n",
      "<th aria-label=\"Turnovers\" class=\"center\" data-stat=\"tov\" data-tip=\"Turnovers\">TOV</th>\n",
      "<th aria-label=\"Personal Fouls\" class=\"center\" data-stat=\"pf\" data-tip=\"Personal Fouls\">PF</th>\n",
      "<th aria-label=\"Points\" class=\"center\" data-stat=\"pts\" data-tip=\"Points\">PTS</th>\n",
      "<th aria-label=\"Field Goal Percentage\" class=\"center\" data-stat=\"fg_pct\" data-tip=\"Field Goal Percentage\">FG%</th>\n",
      "<th aria-label=\"3-Point Field Goal Percentage\" class=\"center\" data-stat=\"fg3_pct\" data-tip=\"3-Point Field Goal Percentage\">3P%</th>\n",
      "<th aria-label=\"Free Throw Percentage\" class=\"center\" data-stat=\"ft_pct\" data-tip=\"Free Throw Percentage\">FT%</th>\n",
      "<th aria-label=\"Minutes Played Per Game\" class=\"center\" data-stat=\"mp_per_g\" data-tip=\"Minutes Played Per Game\">MP</th>\n",
      "<th aria-label=\"Points Per Game\" class=\"center\" data-stat=\"pts_per_g\" data-tip=\"Points Per Game\">PTS</th>\n",
      "<th aria-label=\"Total Rebounds Per Game\" class=\"center\" data-stat=\"trb_per_g\" data-tip=\"Total Rebounds Per Game\">TRB</th>\n",
      "<th aria-label=\"Assists Per Game\" class=\"center\" data-stat=\"ast_per_g\" data-tip=\"Assists Per Game\">AST</th>\n",
      "<th aria-label=\"Steals Per Game\" class=\"center\" data-stat=\"stl_per_g\" data-tip=\"Steals Per Game\">STL</th>\n",
      "<th aria-label=\"Blocks Per Game\" class=\"center\" data-stat=\"blk_per_g\" data-tip=\"Blocks Per Game\">BLK</th>\n",
      "<th aria-label=\"Date\" class=\"sort_default_asc center\" data-stat=\"birth_date\">Date</th>\n",
      "<th aria-label=\"City\" class=\"sort_default_asc center\" data-stat=\"birth_city\">City</th>\n",
      "</tr>\n"
     ]
    },
    {
     "ename": "AttributeError",
     "evalue": "'NoneType' object has no attribute 'text'",
     "output_type": "error",
     "traceback": [
      "\u001b[0;31m---------------------------------------------------------------------------\u001b[0m",
      "\u001b[0;31mAttributeError\u001b[0m                            Traceback (most recent call last)",
      "Cell \u001b[0;32mIn[40], line 23\u001b[0m\n\u001b[1;32m     21\u001b[0m player_data \u001b[38;5;241m=\u001b[39m []\n\u001b[1;32m     22\u001b[0m \u001b[38;5;66;03m# The player name is in a hyperlink, so we must go into an a tag to get it\u001b[39;00m\n\u001b[0;32m---> 23\u001b[0m name \u001b[38;5;241m=\u001b[39m \u001b[43mrow\u001b[49m\u001b[38;5;241;43m.\u001b[39;49m\u001b[43mfind\u001b[49m\u001b[43m(\u001b[49m\u001b[38;5;124;43m'\u001b[39;49m\u001b[38;5;124;43ma\u001b[39;49m\u001b[38;5;124;43m'\u001b[39;49m\u001b[43m)\u001b[49m\u001b[38;5;241;43m.\u001b[39;49m\u001b[43mtext\u001b[49m\n\u001b[1;32m     24\u001b[0m \u001b[38;5;66;03m# Find the href extension for the player\u001b[39;00m\n\u001b[1;32m     25\u001b[0m player_url \u001b[38;5;241m=\u001b[39m row\u001b[38;5;241m.\u001b[39mfind(\u001b[38;5;124m'\u001b[39m\u001b[38;5;124ma\u001b[39m\u001b[38;5;124m'\u001b[39m)\u001b[38;5;241m.\u001b[39mget(\u001b[38;5;124m'\u001b[39m\u001b[38;5;124mhref\u001b[39m\u001b[38;5;124m'\u001b[39m)\n",
      "\u001b[0;31mAttributeError\u001b[0m: 'NoneType' object has no attribute 'text'"
     ]
    }
   ],
   "source": [
    "# This loop iterates through the selected list of states\n",
    "for state in states:\n",
    "        \n",
    "        url = f'https://www.basketball-reference.com/friv/birthplaces.fcgi?country=US&state={state}'\n",
    "        html = urlopen(url)\n",
    "        soup = BeautifulSoup(html, features='lxml')\n",
    "        \n",
    "        tbody = soup('tbody')\n",
    "        all_rows = soup('tr')\n",
    "\n",
    "        for row in all_rows[2:]:\n",
    "                print(row)\n",
    "                # Remove header breaks in website table\n",
    "                for tr in row.select('.thead'):\n",
    "                      tr.decompose()\n",
    "\n",
    "                # data_rows = row.findAll('tr')\n",
    "                \n",
    "                # for data_row in data_rows:\n",
    "                    # Create a list for each player's data\n",
    "                player_data = []\n",
    "                # The player name is in a hyperlink, so we must go into an a tag to get it\n",
    "                name = row.find('a').text\n",
    "                # Find the href extension for the player\n",
    "                player_url = row.find('a').get('href')\n",
    "                # Concatenate the base url for the website and the player extension\n",
    "                total_url = f'https://www.basketball-reference.com{player_url}'\n",
    "                # Each .append() adds player data to the list\n",
    "                player_data.append(total_url) \n",
    "                player_data.append(name)\n",
    "                # This for loop allows us to gather many data-stat values\n",
    "                for stat in data_stats:\n",
    "                    # This grabs the current data-stat from the list\n",
    "                    data = row.find('td', attrs={'data-stat': stat}).text\n",
    "                    player_data.append(data) \n",
    "                player_data.append(state)\n",
    "                # This appends the players data to the all_states_data list\n",
    "                all_states_data.append(player_data)\n",
    "        print(f'Player data from {state} successfully scraped')\n",
    "\n",
    "print('Done compiling, go to next list if needed')       "
   ]
  },
  {
   "cell_type": "code",
   "execution_count": null,
   "metadata": {},
   "outputs": [],
   "source": [
    "# Create Dataframe\n",
    "all_states_df = pd.DataFrame(all_states_data)\n",
    "all_states_df.columns = columns\n",
    "all_states_df"
   ]
  },
  {
   "cell_type": "code",
   "execution_count": null,
   "metadata": {},
   "outputs": [],
   "source": [
    "# Check datatypes\n",
    "all_states_df.dtypes"
   ]
  },
  {
   "cell_type": "code",
   "execution_count": null,
   "metadata": {},
   "outputs": [],
   "source": [
    "# Convert data strings to numbers\n",
    "cols = ['years', 'gp', 'mp', 'fg', 'fga', '3p', '3pa', 'ft', 'fta', \n",
    "           'orb', 'trb', 'ast', 'stl', 'blk', 'to', 'pf', 'pts']\n",
    "all_states_df[cols] = all_states_df[cols].apply(pd.to_numeric, errors='coerce')\n",
    "all_states_df.dtypes"
   ]
  },
  {
   "cell_type": "code",
   "execution_count": null,
   "metadata": {},
   "outputs": [],
   "source": [
    "# Create .json file to store data\n",
    "out = all_states_df.to_json(orient='records')\n",
    "\n",
    "with open('all_states.json', 'w') as f:\n",
    "    f.write(out)"
   ]
  }
 ],
 "metadata": {
  "kernelspec": {
   "display_name": "dev",
   "language": "python",
   "name": "python3"
  },
  "language_info": {
   "codemirror_mode": {
    "name": "ipython",
    "version": 3
   },
   "file_extension": ".py",
   "mimetype": "text/x-python",
   "name": "python",
   "nbconvert_exporter": "python",
   "pygments_lexer": "ipython3",
   "version": "3.10.13"
  }
 },
 "nbformat": 4,
 "nbformat_minor": 2
}
