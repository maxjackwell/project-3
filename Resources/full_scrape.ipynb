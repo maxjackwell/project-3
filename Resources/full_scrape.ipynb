{
 "cells": [
  {
   "cell_type": "code",
   "execution_count": null,
   "metadata": {},
   "outputs": [],
   "source": [
    "# IMport Dependencies\n",
    "from urllib.request import urlopen\n",
    "from bs4 import BeautifulSoup\n",
    "import pandas as pd\n",
    "import requests\n",
    "from api_key import api_key"
   ]
  },
  {
   "cell_type": "code",
   "execution_count": null,
   "metadata": {},
   "outputs": [],
   "source": [
    "# Create an empty list for player data from all players from all states\n",
    "all_states_data = []\n",
    "# These columns will be used label the dataframe columns\n",
    "columns = ['url', 'name', 'years', 'gp', 'mp', 'fg', 'fga', 'threep', 'threepa', 'ft', 'fta', \n",
    "           'orb', 'trb', 'ast', 'stl', 'blk', 'to', 'pf', 'pts', 'birthday', 'birthyear', 'city', 'state', 'lat', 'lon']\n",
    "# These are the data stat on the website that have the same format\n",
    "data_stats = ['years', 'g', 'mp', 'fg', 'fga', 'fg3', 'fg3a', 'ft', 'fta', \n",
    "              'orb', 'trb', 'ast', 'stl', 'blk', 'tov', 'pf', 'pts', 'birth_date']\n",
    "\n",
    "states = ['AL','AK','AR','AZ','CA','CO','CT','DC','DE','FL','GA',\n",
    "          'HI','ID','IL','IN','IA','KS','KY','LA','ME','MD',\n",
    "          'MA','MI','MN','MS','MO','MT','NE','NV','NH','NJ',\n",
    "          'NM','NY','NC','ND','OH','OK','OR','PA','RI','SC',\n",
    "          'SD','TN','TX','UT','VT','VA','WA','WV','WI','WY']"
   ]
  },
  {
   "cell_type": "code",
   "execution_count": null,
   "metadata": {},
   "outputs": [],
   "source": [
    "# This loop iterates through the selected list of states\n",
    "for state in states:\n",
    "        \n",
    "        url = f'https://www.basketball-reference.com/friv/birthplaces.fcgi?country=US&state={state}'\n",
    "        html = urlopen(url)\n",
    "        soup = BeautifulSoup(html, features='lxml')\n",
    "        \n",
    "        tbody = soup('tbody')\n",
    "        \n",
    "\n",
    "        for t in tbody:\n",
    "                # Remove header breaks in website table\n",
    "                for tr in t.select('.thead'):\n",
    "                      tr.decompose()\n",
    "\n",
    "                rows = t.findAll('tr')\n",
    "                \n",
    "                for row in rows:\n",
    "                    # Create a list for each player's data\n",
    "                    player_data = []\n",
    "                    # The player name is in a hyperlink, so we must go into an a tag to get it\n",
    "                    name = row.find('a').text\n",
    "                    city = row.find('td', attrs={'data-stat': 'birth_city'}).text.replace(\" \", \"_\")\n",
    "                     # Url for API request\n",
    "                    target_url = f\"https://api.geoapify.com/v1/geocode/search?city={city}&state={state}&format=json&apiKey={api_key}\"\n",
    "\n",
    "                    # Make API request to get latitude and longitude\n",
    "                    response = requests.get(target_url)\n",
    "                    data = response.json()\n",
    "\n",
    "                    # Extract latitude and longitude from the API response\n",
    "                    if 'results' in data and data['results']:\n",
    "                        lat = data['results'][0]['lat']\n",
    "                        lon = data['results'][0]['lon']\n",
    "                        #print(f'Coordinates for {city},{state}: lat: {lat}, lon: {lon}')\n",
    "\n",
    "                    # Find the href extension for the player\n",
    "                    player_url = row.find('a').get('href')\n",
    "                    # Concatenate the base url for the website and the player extension\n",
    "                    total_url = f'https://www.basketball-reference.com{player_url}'\n",
    "                    # This gets rid of the underscores added to cities with spaces\n",
    "                    city = row.find('td', attrs={'data-stat': 'birth_city'}).text.replace(\"_\", \" \")\n",
    "                    # The website gives us the birthday as a string\n",
    "                    birth_date = row.find('td', attrs={'data-stat': 'birth_date'}).text\n",
    "                    # This takes the year from the end of the string and makes it an integer\n",
    "                    # The or\n",
    "                    birth_year = int(birth_date[-4:] or 0)\n",
    "                    # Each .append() adds player data to the list\n",
    "                    player_data.append(total_url) \n",
    "                    player_data.append(name)\n",
    "                    # This for loop allows us to gather many data-stat values\n",
    "                    for stat in data_stats:\n",
    "                        # This grabs the current data-stat from the list\n",
    "                        data = row.find('td', attrs={'data-stat': stat}).text\n",
    "                        player_data.append(data)\n",
    "                    player_data.append(birth_year) \n",
    "                    player_data.append(city)\n",
    "                    player_data.append(state)\n",
    "                    player_data.append(lat)\n",
    "                    player_data.append(lon)\n",
    "                    # This appends the players data to the all_states_data list\n",
    "                    all_states_data.append(player_data)\n",
    "        print(f'Player data from {state} successfully scraped')\n",
    "\n",
    "print('Done compiling!')  "
   ]
  },
  {
   "cell_type": "code",
   "execution_count": null,
   "metadata": {},
   "outputs": [],
   "source": [
    "print(all_states_data)"
   ]
  },
  {
   "cell_type": "code",
   "execution_count": null,
   "metadata": {},
   "outputs": [],
   "source": [
    "# Create Dataframe\n",
    "all_states_df = pd.DataFrame(all_states_data)\n",
    "all_states_df.columns = columns\n",
    "all_states_df"
   ]
  },
  {
   "cell_type": "code",
   "execution_count": null,
   "metadata": {},
   "outputs": [],
   "source": [
    "# Check datatypes\n",
    "all_states_df.dtypes"
   ]
  },
  {
   "cell_type": "code",
   "execution_count": null,
   "metadata": {},
   "outputs": [],
   "source": [
    "# Convert data strings to numbers\n",
    "cols = ['years', 'gp', 'mp', 'fg', 'fga', 'threep', 'threepa', 'ft', 'fta', \n",
    "           'orb', 'trb', 'ast', 'stl', 'blk', 'to', 'pf', 'pts']\n",
    "all_states_df[cols] = all_states_df[cols].apply(pd.to_numeric, errors='coerce')\n",
    "all_states_df.dtypes"
   ]
  },
  {
   "cell_type": "code",
   "execution_count": null,
   "metadata": {},
   "outputs": [],
   "source": [
    "##all_states_df = all_states_df.replace(to_replace=\"NaN\",value=0)\n",
    "##all_states_df = all_states_df.replace(to_replace=\"null\",value=0)\n",
    "all_states_df = all_states_df.fillna(0)\n"
   ]
  },
  {
   "cell_type": "code",
   "execution_count": null,
   "metadata": {},
   "outputs": [],
   "source": [
    "all_states_df"
   ]
  },
  {
   "cell_type": "code",
   "execution_count": null,
   "metadata": {},
   "outputs": [],
   "source": [
    "# Create .json file to store data\n",
    "out = all_states_df.to_json(orient='records')\n",
    "\n",
    "with open('full_states_nba.json', 'w') as f:\n",
    "    f.write(out)"
   ]
  }
 ],
 "metadata": {
  "kernelspec": {
   "display_name": "base",
   "language": "python",
   "name": "python3"
  },
  "language_info": {
   "codemirror_mode": {
    "name": "ipython",
    "version": 3
   },
   "file_extension": ".py",
   "mimetype": "text/x-python",
   "name": "python",
   "nbconvert_exporter": "python",
   "pygments_lexer": "ipython3",
   "version": "3.10.13"
  }
 },
 "nbformat": 4,
 "nbformat_minor": 2
}
