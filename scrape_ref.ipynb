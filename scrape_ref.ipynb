{
 "cells": [
  {
   "cell_type": "code",
   "execution_count": null,
   "metadata": {},
   "outputs": [],
   "source": [
    "# import needed libraries\n",
    "from urllib.request import urlopen\n",
    "from bs4 import BeautifulSoup\n",
    "import pandas as pd"
   ]
  },
  {
   "cell_type": "code",
   "execution_count": null,
   "metadata": {},
   "outputs": [],
   "source": [
    "# states = ['AL','AK','AZ','AR','CA','CO','CT','DE','FL','GA',\n",
    "#           'HI','ID','IL','IN','IA','KS','KY','LA','ME','MD',\n",
    "#           'MA','MI','MN','MS','MO','MT','NE','NV','NH','NJ',\n",
    "#           'NM','NY','NC','ND','OH','OK','OR','PA','RI','SC',\n",
    "#           'SD','TN','TX','UT','VT','VA','WA','WV','WI','WY']\n",
    "# states = ['AL','AK','AZ','AR','CA','CO','CT','DE','FL','GA']\n",
    "states = ['AL']\n",
    "columns = ['Player', 'Years', 'GP', 'MP', 'FG', 'FGA', '3P', '3PA', 'FT', 'FTA', \n",
    "           'ORB', 'TRB', 'AST', 'STL', 'BLK', 'TO', 'PF', 'PTS', 'Birthday', 'City', 'State']\n",
    "data_stats = ['years', 'g', 'mp', 'fg', 'fga', 'fg3', 'fg3a', 'ft', 'fta', \n",
    "              'orb', 'trb', 'stl', 'blk', 'tov', 'pf', 'pts', 'birth_date', 'birth_city']"
   ]
  },
  {
   "cell_type": "code",
   "execution_count": null,
   "metadata": {},
   "outputs": [],
   "source": [
    "all_states_data = []\n",
    "\n",
    "for state in states:\n",
    "        \n",
    "        url = f'https://www.basketball-reference.com/friv/birthplaces.fcgi?country=US&state={state}'\n",
    "        html = urlopen(url)\n",
    "        soup = BeautifulSoup(html, features='lxml')\n",
    "        \n",
    "        all_rows = soup.findAll('tbody')\n",
    "\n",
    "        for row in all_rows:\n",
    "\n",
    "                row_data = []\n",
    "                for tr in row.select('.thead'):\n",
    "                      tr.decompose()\n",
    "\n",
    "                data_rows = row.findAll('tr')\n",
    "                \n",
    "                for data_row in data_rows:\n",
    "                    player_data = []\n",
    "                    # print(data_row)\n",
    "                    name = data_row.find('a').text\n",
    "                    # print(name)\n",
    "                    player_data.append(name)\n",
    "                    for stat in data_stats:\n",
    "                        data = row.find('td', attrs={'data-stat': stat}).text\n",
    "                        # print(data)\n",
    "                        player_data.append(data)\n",
    "                    player_data.append(state)\n",
    "                    row_data.append(player_data)\n",
    "\n",
    "        print(row_data)"
   ]
  }
 ],
 "metadata": {
  "kernelspec": {
   "display_name": "dev",
   "language": "python",
   "name": "python3"
  },
  "language_info": {
   "codemirror_mode": {
    "name": "ipython",
    "version": 3
   },
   "file_extension": ".py",
   "mimetype": "text/x-python",
   "name": "python",
   "nbconvert_exporter": "python",
   "pygments_lexer": "ipython3",
   "version": "3.10.13"
  }
 },
 "nbformat": 4,
 "nbformat_minor": 2
}
